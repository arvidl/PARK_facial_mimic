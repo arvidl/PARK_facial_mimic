{
 "cells": [
  {
   "cell_type": "markdown",
   "metadata": {},
   "source": [
    "<h2>Import the necessary Library</h2>\n",
    "\n",
    "Using the `PSN`-kernel and the `psn` conda environment from the `patient-similarity-network` repository\n",
    "\n",
    "`imbalanced-learn` - Python module to balance data set using under- and over-sampling (https://github.com/scikit-learn-contrib/imbalanced-learn)<br>\n",
    "```\n",
    "conda install -c conda-forge imbalanced-learn\n",
    "```"
   ]
  },
  {
   "cell_type": "code",
   "execution_count": 1,
   "metadata": {},
   "outputs": [],
   "source": [
    "import pandas as pd\n",
    "import numpy as np\n",
    "import os\n",
    "import matplotlib.pyplot as plt\n",
    "import math,scipy\n",
    "import pickle\n",
    "from scipy.stats import mannwhitneyu, ttest_ind\n",
    "from sklearn.linear_model import PoissonRegressor\n",
    "import statsmodels.api as sm\n",
    "from sklearn.decomposition import PCA\n",
    "from imblearn.over_sampling import SMOTE, ADASYN\n",
    "from sklearn.metrics import accuracy_score, f1_score, roc_auc_score,precision_score, recall_score\n",
    "from sklearn.preprocessing import scale\n",
    "from sklearn.cluster import MeanShift, estimate_bandwidth\n",
    "from sklearn.cluster import KMeans\n",
    "from sklearn.cluster import DBSCAN\n",
    "from sklearn import metrics\n",
    "from itertools import cycle\n",
    "%matplotlib inline  "
   ]
  },
  {
   "cell_type": "markdown",
   "metadata": {},
   "source": [
    "<h2>Read the features from file</h2>"
   ]
  },
  {
   "cell_type": "code",
   "execution_count": 2,
   "metadata": {},
   "outputs": [],
   "source": [
    "df = pd.read_csv(\"face_mimic_df.csv\")\n",
    "feats = ['AU_01_t12','AU_06_t12','AU_12_t12','AU_04_t13','AU_07_t13','AU_09_t13','AU_01_t14','AU_02_t14','AU_04_t14']\n",
    "pca = PCA(n_components=3)\n",
    "x_new = pca.fit_transform(df[feats])\n",
    "X = df[feats].dropna()\n",
    "y = df['diagnosed'].dropna()\n",
    "X_resampled, y_resampled = SMOTE().fit_resample(X, y)"
   ]
  },
  {
   "cell_type": "markdown",
   "metadata": {},
   "source": [
    "<h2>Run Statistical Analysis</h2>"
   ]
  },
  {
   "cell_type": "code",
   "execution_count": 3,
   "metadata": {},
   "outputs": [
    {
     "data": {
      "text/html": [
       "<div>\n",
       "<style scoped>\n",
       "    .dataframe tbody tr th:only-of-type {\n",
       "        vertical-align: middle;\n",
       "    }\n",
       "\n",
       "    .dataframe tbody tr th {\n",
       "        vertical-align: top;\n",
       "    }\n",
       "\n",
       "    .dataframe thead th {\n",
       "        text-align: right;\n",
       "    }\n",
       "</style>\n",
       "<table border=\"1\" class=\"dataframe\">\n",
       "  <thead>\n",
       "    <tr style=\"text-align: right;\">\n",
       "      <th></th>\n",
       "      <th>feature</th>\n",
       "      <th>mean PD</th>\n",
       "      <th>mean nPD</th>\n",
       "      <th>sd PD</th>\n",
       "      <th>sd nPD</th>\n",
       "      <th>p</th>\n",
       "      <th>u</th>\n",
       "    </tr>\n",
       "  </thead>\n",
       "  <tbody>\n",
       "    <tr>\n",
       "      <th>0</th>\n",
       "      <td>AU_01_t12</td>\n",
       "      <td>0.145</td>\n",
       "      <td>0.074</td>\n",
       "      <td>0.182</td>\n",
       "      <td>0.119</td>\n",
       "      <td>0.001</td>\n",
       "      <td>6,006.000</td>\n",
       "    </tr>\n",
       "    <tr>\n",
       "      <th>1</th>\n",
       "      <td>AU_06_t12</td>\n",
       "      <td>0.171</td>\n",
       "      <td>0.247</td>\n",
       "      <td>0.152</td>\n",
       "      <td>0.250</td>\n",
       "      <td>0.047</td>\n",
       "      <td>7,409.000</td>\n",
       "    </tr>\n",
       "    <tr>\n",
       "      <th>2</th>\n",
       "      <td>AU_12_t12</td>\n",
       "      <td>0.211</td>\n",
       "      <td>0.273</td>\n",
       "      <td>0.179</td>\n",
       "      <td>0.243</td>\n",
       "      <td>0.065</td>\n",
       "      <td>7,556.000</td>\n",
       "    </tr>\n",
       "    <tr>\n",
       "      <th>3</th>\n",
       "      <td>AU_04_t13</td>\n",
       "      <td>0.187</td>\n",
       "      <td>0.262</td>\n",
       "      <td>0.199</td>\n",
       "      <td>0.316</td>\n",
       "      <td>0.063</td>\n",
       "      <td>7,539.000</td>\n",
       "    </tr>\n",
       "    <tr>\n",
       "      <th>4</th>\n",
       "      <td>AU_07_t13</td>\n",
       "      <td>0.187</td>\n",
       "      <td>0.242</td>\n",
       "      <td>0.205</td>\n",
       "      <td>0.268</td>\n",
       "      <td>0.103</td>\n",
       "      <td>7,774.000</td>\n",
       "    </tr>\n",
       "    <tr>\n",
       "      <th>5</th>\n",
       "      <td>AU_09_t13</td>\n",
       "      <td>0.042</td>\n",
       "      <td>0.041</td>\n",
       "      <td>0.060</td>\n",
       "      <td>0.066</td>\n",
       "      <td>0.267</td>\n",
       "      <td>8,335.000</td>\n",
       "    </tr>\n",
       "    <tr>\n",
       "      <th>6</th>\n",
       "      <td>AU_01_t14</td>\n",
       "      <td>0.279</td>\n",
       "      <td>0.266</td>\n",
       "      <td>0.283</td>\n",
       "      <td>0.317</td>\n",
       "      <td>0.172</td>\n",
       "      <td>8,052.500</td>\n",
       "    </tr>\n",
       "    <tr>\n",
       "      <th>7</th>\n",
       "      <td>AU_02_t14</td>\n",
       "      <td>0.151</td>\n",
       "      <td>0.121</td>\n",
       "      <td>0.288</td>\n",
       "      <td>0.177</td>\n",
       "      <td>0.144</td>\n",
       "      <td>7,949.000</td>\n",
       "    </tr>\n",
       "    <tr>\n",
       "      <th>8</th>\n",
       "      <td>AU_04_t14</td>\n",
       "      <td>0.307</td>\n",
       "      <td>0.398</td>\n",
       "      <td>0.370</td>\n",
       "      <td>0.431</td>\n",
       "      <td>0.061</td>\n",
       "      <td>7,525.000</td>\n",
       "    </tr>\n",
       "  </tbody>\n",
       "</table>\n",
       "</div>"
      ],
      "text/plain": [
       "     feature  mean PD  mean nPD  sd PD  sd nPD     p         u\n",
       "0  AU_01_t12    0.145     0.074  0.182   0.119 0.001 6,006.000\n",
       "1  AU_06_t12    0.171     0.247  0.152   0.250 0.047 7,409.000\n",
       "2  AU_12_t12    0.211     0.273  0.179   0.243 0.065 7,556.000\n",
       "3  AU_04_t13    0.187     0.262  0.199   0.316 0.063 7,539.000\n",
       "4  AU_07_t13    0.187     0.242  0.205   0.268 0.103 7,774.000\n",
       "5  AU_09_t13    0.042     0.041  0.060   0.066 0.267 8,335.000\n",
       "6  AU_01_t14    0.279     0.266  0.283   0.317 0.172 8,052.500\n",
       "7  AU_02_t14    0.151     0.121  0.288   0.177 0.144 7,949.000\n",
       "8  AU_04_t14    0.307     0.398  0.370   0.431 0.061 7,525.000"
      ]
     },
     "execution_count": 3,
     "metadata": {},
     "output_type": "execute_result"
    }
   ],
   "source": [
    "result = dict()\n",
    "result['feature'] = []\n",
    "result['mean PD'] = []\n",
    "result['mean nPD'] = []\n",
    "result['sd PD'] = []\n",
    "result['sd nPD'] = []\n",
    "result['p'] = []\n",
    "result['u'] = []\n",
    "for f in feats:\n",
    "    pd_df = df[df['diagnosed']==1][f].dropna()\n",
    "    npd_df = df[df['diagnosed']==0][f].dropna()\n",
    "    result['feature'].append(f)\n",
    "    result['mean PD'].append(pd_df.mean())\n",
    "    result['mean nPD'].append(npd_df.mean())\n",
    "    result['sd PD'].append(pd_df.std())\n",
    "    result['sd nPD'].append(npd_df.std())\n",
    "    result['u'].append(mannwhitneyu(pd_df,npd_df)[0])\n",
    "    result['p'].append(mannwhitneyu(pd_df,npd_df)[1])\n",
    "result = pd.DataFrame(result)\n",
    "pd.options.display.float_format = \"{:,.3f}\".format\n",
    "result"
   ]
  },
  {
   "cell_type": "markdown",
   "metadata": {},
   "source": [
    "<h2>Linear Regression Analysis</h2>"
   ]
  },
  {
   "cell_type": "code",
   "execution_count": 7,
   "metadata": {},
   "outputs": [
    {
     "name": "stdout",
     "output_type": "stream",
     "text": [
      "Optimization terminated successfully.\n",
      "         Current function value: 0.622600\n",
      "         Iterations: 22\n",
      "         Function evaluations: 23\n",
      "         Gradient evaluations: 23\n",
      "                           Logit Regression Results                           \n",
      "==============================================================================\n",
      "Dep. Variable:                      y   No. Observations:                  960\n",
      "Model:                          Logit   Df Residuals:                      951\n",
      "Method:                           MLE   Df Model:                            8\n",
      "Date:                Wed, 29 Sep 2021   Pseudo R-squ.:                  0.1018\n",
      "Time:                        17:27:19   Log-Likelihood:                -597.70\n",
      "converged:                       True   LL-Null:                       -665.42\n",
      "Covariance Type:            nonrobust   LLR p-value:                 2.093e-25\n",
      "==============================================================================\n",
      "                 coef    std err          z      P>|z|      [0.025      0.975]\n",
      "------------------------------------------------------------------------------\n",
      "x1             0.4829      0.085      5.690      0.000       0.317       0.649\n",
      "x2            -0.2434      0.091     -2.671      0.008      -0.422      -0.065\n",
      "x3            -0.4621      0.099     -4.675      0.000      -0.656      -0.268\n",
      "x4            -0.3337      0.108     -3.094      0.002      -0.545      -0.122\n",
      "x5            -0.2685      0.095     -2.831      0.005      -0.454      -0.083\n",
      "x6             0.0246      0.099      0.247      0.805      -0.170       0.220\n",
      "x7            -0.0646      0.097     -0.664      0.506      -0.255       0.126\n",
      "x8             0.0095      0.084      0.113      0.910      -0.155       0.174\n",
      "x9            -0.1851      0.089     -2.083      0.037      -0.359      -0.011\n",
      "==============================================================================\n",
      "9\n"
     ]
    },
    {
     "data": {
      "image/png": "[encoded data removed]",
      "text/plain": [
       "<Figure size 432x288 with 1 Axes>"
      ]
     },
     "metadata": {
      "needs_background": "light"
     },
     "output_type": "display_data"
    }
   ],
   "source": [
    "feats = ['AU_01_t12','AU_06_t12','AU_12_t12','AU_04_t13','AU_07_t13', 'AU_09_t13','AU_01_t14','AU_02_t14','AU_04_t14']\n",
    "X = df[feats].dropna()\n",
    "y = df['diagnosed'].dropna()\n",
    "X = scale(X)\n",
    "y = np.array(y)\n",
    "X_resampled, y_resampled = SMOTE().fit_resample(X, y)\n",
    "results = sm.Logit(y_resampled,X_resampled).fit(method='bfgs')\n",
    "print(results.summary())\n",
    "\n",
    "\n",
    "print(len(results.params))\n",
    "feat_names = ['AU_01 (Smile)*','AU_06 (Smile)','AU_12 (Smile)*','AU_04 (Disgust)*','AU_07 (Disgust)', 'AU_09 (Disgust)',\\\n",
    "              'AU_01 (Surprise)','AU_02 (Surprise)','AU_04 (Surprise)']\n",
    "#plt.bar(np.arange(9),results.params,color = 'gbgggbbbb') \n",
    "#plt.bar(np.arange(9),results.params,color = 'ggggbbbbb')  # \n",
    "# API changes in Matplotlib 3.2.1 (Using a string of single character colors as a color sequence is not supported.)\n",
    "plt.bar(np.arange(9),results.params,color = 'green')\n",
    "plt.xlabel(\"Features\")\n",
    "plt.ylabel(\"Regression Weights\")\n",
    "plt.xticks(np.arange(9),feat_names,rotation=90)\n",
    "plt.savefig(\"Regression_weights.png\",bbox_inches='tight',dpi = 300)\n",
    "plt.show()"
   ]
  },
  {
   "cell_type": "markdown",
   "metadata": {},
   "source": [
    "<h2>Clustering Analysis</h2>"
   ]
  },
  {
   "cell_type": "code",
   "execution_count": 10,
   "metadata": {},
   "outputs": [
    {
     "data": {
      "image/png": "[encoded data removed]",
      "text/plain": [
       "<Figure size 432x288 with 1 Axes>"
      ]
     },
     "metadata": {
      "needs_background": "light"
     },
     "output_type": "display_data"
    },
    {
     "data": {
      "image/png": "[encoded data removed]",
      "text/plain": [
       "<Figure size 432x288 with 1 Axes>"
      ]
     },
     "metadata": {
      "needs_background": "light"
     },
     "output_type": "display_data"
    }
   ],
   "source": [
    "X = df[feats].dropna()\n",
    "y = df['diagnosed'].dropna()\n",
    "X = scale(X)\n",
    "y = np.array(y)\n",
    "\n",
    "    \n",
    "colors = cycle('bgrcmykbgrcmykbgrcmykbgrcmyk')\n",
    "m = 0\n",
    "t = []\n",
    "pca = PCA(n_components=2)\n",
    "x_new = pca.fit_transform(X)\n",
    "\n",
    "kmeans = KMeans(init= 'k-means++', n_clusters=3, random_state=0).fit(x_new)\n",
    "labels = kmeans.labels_\n",
    "cluster_centers = kmeans.cluster_centers_\n",
    "labels_unique = np.unique(labels)\n",
    "n_clusters_ = len(labels_unique)\n",
    "\n",
    "means = []\n",
    "for k, col in zip(range(n_clusters_), colors):\n",
    "    my_members = labels == k\n",
    "#     print(sum(y[my_members])/(sum(y)),sum(y[my_members]))\n",
    "    means.append(np.mean(X[my_members],axis=0))\n",
    "    cluster_center = cluster_centers[k]\n",
    "    \n",
    "    plt.plot(x_new[my_members, 0], x_new[my_members, 1], col + '.', alpha=0.2)\n",
    "    plt.plot(cluster_center[0], cluster_center[1], 'o', markerfacecolor=col,\n",
    "             markeredgecolor='k', markersize=12,\\\n",
    "             label = \"PD % = \"+str(np.around(sum(y[my_members])/(sum(y) /100),decimals=2))+\" %\")\n",
    "    plt.legend(loc = 'upper right')\n",
    "    plt.savefig('assets/clusters.png',bbox_inches='tight',dpi = 300)\n",
    "plt.show()\n",
    "plt.clf() \n",
    "c = ['g' if i == 0 else 'r' for i in y]\n",
    "plt.scatter(x_new[:,0],x_new[:,1],c = c,alpha=0.2)\n",
    "plt.show()\n",
    "#plt.clf()"
   ]
  },
  {
   "cell_type": "markdown",
   "metadata": {},
   "source": [
    "<h2>Classification</h2>"
   ]
  },
  {
   "cell_type": "code",
   "execution_count": 12,
   "metadata": {},
   "outputs": [
    {
     "name": "stdout",
     "output_type": "stream",
     "text": [
      "0.953125 0.9536560247167869 0.953125 0.9429735234215886 0.9645833333333333\n",
      "CPU times: user 55.1 s, sys: 44.3 ms, total: 55.1 s\n",
      "Wall time: 55.1 s\n"
     ]
    }
   ],
   "source": [
    "%%time\n",
    "from imblearn.over_sampling import SMOTE, ADASYN\n",
    "from sklearn.preprocessing import scale\n",
    "from sklearn import svm\n",
    "from sklearn.model_selection import cross_val_predict\n",
    "from sklearn.metrics import accuracy_score, f1_score, roc_auc_score,precision_score, recall_score\n",
    "from collections import Counter\n",
    "feats = ['AU_01_t12','AU_06_t12','AU_12_t12','AU_04_t13','AU_07_t13', 'AU_09_t13','AU_01_t14','AU_02_t14','AU_04_t14']\n",
    "X = df[feats].dropna()\n",
    "y = df['diagnosed'].dropna()\n",
    "X = scale(X)\n",
    "# print(sum(y)/len(y))\n",
    "y = np.array(y)\n",
    "X_resampled, y_resampled = SMOTE().fit_resample(X, y)\n",
    "best_auc = 0\n",
    "best_f1 = 0\n",
    "best_acc = 0\n",
    "best_pre = 0\n",
    "best_re = 0\n",
    "for c in np.arange(0.1,10,2):\n",
    "    for g in np.arange(0.1,2,0.05):\n",
    "        clf = svm.SVC(kernel = 'rbf', C = c, gamma = g).fit(X_resampled,y_resampled)\n",
    "#         clf = svm.SVC(kernel = 'linear', C = c)\n",
    "        y_pred = cross_val_predict(clf, X_resampled, y_resampled, cv=10)\n",
    "        acc = accuracy_score(y_resampled,y_pred)\n",
    "        auc = roc_auc_score(y_resampled,y_pred)\n",
    "        f1 = f1_score(y_resampled,y_pred)\n",
    "        pre = precision_score(y_resampled,y_pred)\n",
    "        re = recall_score(y_resampled,y_pred)\n",
    "        if (auc>best_auc):\n",
    "            best_auc = auc\n",
    "            best_f1 = f1\n",
    "            best_acc = acc\n",
    "            best_pre = pre\n",
    "            best_re = re\n",
    "print(best_acc, best_f1, best_auc, best_pre, best_re)\n"
   ]
  },
  {
   "cell_type": "code",
   "execution_count": null,
   "metadata": {},
   "outputs": [],
   "source": []
  }
 ],
 "metadata": {
  "kernelspec": {
   "display_name": "PSN",
   "language": "python",
   "name": "psn"
  },
  "language_info": {
   "codemirror_mode": {
    "name": "ipython",
    "version": 3
   },
   "file_extension": ".py",
   "mimetype": "text/x-python",
   "name": "python",
   "nbconvert_exporter": "python",
   "pygments_lexer": "ipython3",
   "version": "3.8.0"
  }
 },
 "nbformat": 4,
 "nbformat_minor": 4
}
